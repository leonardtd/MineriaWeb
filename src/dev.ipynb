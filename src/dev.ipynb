{
 "cells": [
  {
   "cell_type": "code",
   "execution_count": 1,
   "metadata": {},
   "outputs": [],
   "source": [
    "import os\n",
    "import glob\n",
    "import torch\n",
    "import torch.nn as nn\n",
    "import pandas as pd\n",
    "import numpy as np\n",
    "import random\n",
    "import config\n",
    "\n",
    "from utils import *"
   ]
  },
  {
   "cell_type": "code",
   "execution_count": 9,
   "metadata": {},
   "outputs": [],
   "source": [
    "data = pd.read_csv(os.path.join(config.DATA_DIR, \"dataset.csv\"), encoding=\"utf-8\")"
   ]
  },
  {
   "cell_type": "code",
   "execution_count": 10,
   "metadata": {},
   "outputs": [
    {
     "data": {
      "text/html": [
       "<div>\n",
       "<style scoped>\n",
       "    .dataframe tbody tr th:only-of-type {\n",
       "        vertical-align: middle;\n",
       "    }\n",
       "\n",
       "    .dataframe tbody tr th {\n",
       "        vertical-align: top;\n",
       "    }\n",
       "\n",
       "    .dataframe thead th {\n",
       "        text-align: right;\n",
       "    }\n",
       "</style>\n",
       "<table border=\"1\" class=\"dataframe\">\n",
       "  <thead>\n",
       "    <tr style=\"text-align: right;\">\n",
       "      <th></th>\n",
       "      <th>description</th>\n",
       "      <th>description_d2v</th>\n",
       "      <th>normalized_prices</th>\n",
       "      <th>image_name</th>\n",
       "      <th>target</th>\n",
       "      <th>description_tf</th>\n",
       "      <th>description_tf_idf</th>\n",
       "      <th>description_boew</th>\n",
       "    </tr>\n",
       "  </thead>\n",
       "  <tbody>\n",
       "    <tr>\n",
       "      <th>0</th>\n",
       "      <td>cepillo dientes pro anticaries colores paquete...</td>\n",
       "      <td>[ 0.03617209 -0.09108923 -0.1164435   0.196076...</td>\n",
       "      <td>-0.297288</td>\n",
       "      <td>cuidado personal y salud-743</td>\n",
       "      <td>9</td>\n",
       "      <td>[0, 0, 0, 0, 0, 0, 0, 0, 0, 0, 0, 0, 0, 0, 0, ...</td>\n",
       "      <td>[0.0, 0.0, 0.0, 0.0, 0.0, 0.0, 0.0, 0.0, 0.0, ...</td>\n",
       "      <td>[-0.32825938036975993, -0.12499755960388172, -...</td>\n",
       "    </tr>\n",
       "    <tr>\n",
       "      <th>1</th>\n",
       "      <td>colonia mujer jean naté original frasco 236ml</td>\n",
       "      <td>[ 2.67047316e-01  1.48509070e-01 -4.83975885e-...</td>\n",
       "      <td>-0.223395</td>\n",
       "      <td>cuidado personal y salud-3036</td>\n",
       "      <td>9</td>\n",
       "      <td>[0, 0, 0, 0, 0, 0, 0, 0, 0, 0, 0, 0, 0, 0, 0, ...</td>\n",
       "      <td>[0.0, 0.0, 0.0, 0.0, 0.0, 0.0, 0.0, 0.0, 0.0, ...</td>\n",
       "      <td>[-0.32825938036975993, -0.12499755960388172, -...</td>\n",
       "    </tr>\n",
       "    <tr>\n",
       "      <th>2</th>\n",
       "      <td>jabón líquido antibacterial dove cuida protege...</td>\n",
       "      <td>[ 4.3569922e-01  3.1344792e-01 -1.2012851e-01 ...</td>\n",
       "      <td>-0.337929</td>\n",
       "      <td>cuidado personal y salud-675</td>\n",
       "      <td>9</td>\n",
       "      <td>[0, 0, 0, 0, 0, 0, 0, 0, 0, 0, 0, 0, 0, 0, 0, ...</td>\n",
       "      <td>[0.0, 0.0, 0.0, 0.0, 0.0, 0.0, 0.0, 0.0, 0.0, ...</td>\n",
       "      <td>[-0.32825938036975993, -0.12499755960388172, -...</td>\n",
       "    </tr>\n",
       "    <tr>\n",
       "      <th>3</th>\n",
       "      <td>collar hidream profusión tl bobby</td>\n",
       "      <td>[ 0.20010154  0.4044106   0.20596604  0.535378...</td>\n",
       "      <td>0.090651</td>\n",
       "      <td>mascotas-1950</td>\n",
       "      <td>6</td>\n",
       "      <td>[0, 0, 0, 0, 0, 0, 0, 0, 0, 0, 0, 0, 0, 0, 0, ...</td>\n",
       "      <td>[0.0, 0.0, 0.0, 0.0, 0.0, 0.0, 0.0, 0.0, 0.0, ...</td>\n",
       "      <td>[-0.32825938036975993, -0.12499755960388172, -...</td>\n",
       "    </tr>\n",
       "    <tr>\n",
       "      <th>4</th>\n",
       "      <td>whisky jack daniel old botella 750ml</td>\n",
       "      <td>[ 1.19404756e-01  7.14106739e-01  1.04906715e-...</td>\n",
       "      <td>0.497063</td>\n",
       "      <td>bebidas-347</td>\n",
       "      <td>8</td>\n",
       "      <td>[0, 0, 0, 0, 0, 0, 0, 0, 0, 0, 0, 0, 0, 0, 0, ...</td>\n",
       "      <td>[0.0, 0.0, 0.0, 0.0, 0.0, 0.0, 0.0, 0.0, 0.0, ...</td>\n",
       "      <td>[-0.32825938036975993, -0.12499755960388172, -...</td>\n",
       "    </tr>\n",
       "  </tbody>\n",
       "</table>\n",
       "</div>"
      ],
      "text/plain": [
       "                                         description  \\\n",
       "0  cepillo dientes pro anticaries colores paquete...   \n",
       "1      colonia mujer jean naté original frasco 236ml   \n",
       "2  jabón líquido antibacterial dove cuida protege...   \n",
       "3                  collar hidream profusión tl bobby   \n",
       "4               whisky jack daniel old botella 750ml   \n",
       "\n",
       "                                     description_d2v  normalized_prices  \\\n",
       "0  [ 0.03617209 -0.09108923 -0.1164435   0.196076...          -0.297288   \n",
       "1  [ 2.67047316e-01  1.48509070e-01 -4.83975885e-...          -0.223395   \n",
       "2  [ 4.3569922e-01  3.1344792e-01 -1.2012851e-01 ...          -0.337929   \n",
       "3  [ 0.20010154  0.4044106   0.20596604  0.535378...           0.090651   \n",
       "4  [ 1.19404756e-01  7.14106739e-01  1.04906715e-...           0.497063   \n",
       "\n",
       "                      image_name  target  \\\n",
       "0   cuidado personal y salud-743       9   \n",
       "1  cuidado personal y salud-3036       9   \n",
       "2   cuidado personal y salud-675       9   \n",
       "3                  mascotas-1950       6   \n",
       "4                    bebidas-347       8   \n",
       "\n",
       "                                      description_tf  \\\n",
       "0  [0, 0, 0, 0, 0, 0, 0, 0, 0, 0, 0, 0, 0, 0, 0, ...   \n",
       "1  [0, 0, 0, 0, 0, 0, 0, 0, 0, 0, 0, 0, 0, 0, 0, ...   \n",
       "2  [0, 0, 0, 0, 0, 0, 0, 0, 0, 0, 0, 0, 0, 0, 0, ...   \n",
       "3  [0, 0, 0, 0, 0, 0, 0, 0, 0, 0, 0, 0, 0, 0, 0, ...   \n",
       "4  [0, 0, 0, 0, 0, 0, 0, 0, 0, 0, 0, 0, 0, 0, 0, ...   \n",
       "\n",
       "                                  description_tf_idf  \\\n",
       "0  [0.0, 0.0, 0.0, 0.0, 0.0, 0.0, 0.0, 0.0, 0.0, ...   \n",
       "1  [0.0, 0.0, 0.0, 0.0, 0.0, 0.0, 0.0, 0.0, 0.0, ...   \n",
       "2  [0.0, 0.0, 0.0, 0.0, 0.0, 0.0, 0.0, 0.0, 0.0, ...   \n",
       "3  [0.0, 0.0, 0.0, 0.0, 0.0, 0.0, 0.0, 0.0, 0.0, ...   \n",
       "4  [0.0, 0.0, 0.0, 0.0, 0.0, 0.0, 0.0, 0.0, 0.0, ...   \n",
       "\n",
       "                                    description_boew  \n",
       "0  [-0.32825938036975993, -0.12499755960388172, -...  \n",
       "1  [-0.32825938036975993, -0.12499755960388172, -...  \n",
       "2  [-0.32825938036975993, -0.12499755960388172, -...  \n",
       "3  [-0.32825938036975993, -0.12499755960388172, -...  \n",
       "4  [-0.32825938036975993, -0.12499755960388172, -...  "
      ]
     },
     "execution_count": 10,
     "metadata": {},
     "output_type": "execute_result"
    }
   ],
   "source": [
    "data.head()"
   ]
  },
  {
   "cell_type": "code",
   "execution_count": 16,
   "metadata": {},
   "outputs": [],
   "source": [
    "a,b = multimodal_train_test_split(data)"
   ]
  },
  {
   "cell_type": "code",
   "execution_count": 19,
   "metadata": {},
   "outputs": [
    {
     "data": {
      "text/plain": [
       "Index(['description', 'description_d2v', 'normalized_prices', 'image_name',\n",
       "       'target', 'description_tf', 'description_tf_idf', 'description_boew'],\n",
       "      dtype='object')"
      ]
     },
     "execution_count": 19,
     "metadata": {},
     "output_type": "execute_result"
    }
   ],
   "source": [
    "a.columns"
   ]
  },
  {
   "cell_type": "code",
   "execution_count": 50,
   "metadata": {},
   "outputs": [],
   "source": [
    "def parseDescriptionVectors(arr):\n",
    "    elements = []\n",
    "    for i,e in enumerate(arr):\n",
    "        elements.append(np.array(e.strip('][').split(', '), dtype=float))\n",
    "    return np.array(elements)"
   ]
  },
  {
   "cell_type": "code",
   "execution_count": 51,
   "metadata": {},
   "outputs": [
    {
     "data": {
      "text/plain": [
       "array([[-0.32825938, -0.12499756, -0.18363523, ..., -0.14097197,\n",
       "        -0.10674252, -0.05034805],\n",
       "       [-0.32825938, -0.12499756, -0.18363523, ..., -0.14097197,\n",
       "        -0.10674252, -0.05034805],\n",
       "       [-0.32825938, -0.12499756, -0.18363523, ..., -0.14097197,\n",
       "        -0.10674252, -0.05034805],\n",
       "       ...,\n",
       "       [-0.32825938, -0.12499756, -0.18363523, ..., -0.14097197,\n",
       "        -0.10674252, -0.05034805],\n",
       "       [-0.32825938, -0.12499756, -0.18363523, ..., -0.14097197,\n",
       "        -0.10674252, -0.05034805],\n",
       "       [-0.32825938, -0.12499756, -0.18363523, ..., -0.14097197,\n",
       "        -0.10674252, -0.05034805]])"
      ]
     },
     "execution_count": 51,
     "metadata": {},
     "output_type": "execute_result"
    }
   ],
   "source": [
    "a['description_boew'][0]\n",
    "parseDescriptionVectors(a['description_boew'])"
   ]
  },
  {
   "cell_type": "code",
   "execution_count": 54,
   "metadata": {},
   "outputs": [],
   "source": [
    "l = a['image_name'].tolist()"
   ]
  },
  {
   "cell_type": "code",
   "execution_count": 58,
   "metadata": {},
   "outputs": [
    {
     "data": {
      "text/plain": [
       "0                aamercado saludable-532\n",
       "1                         aadesayunos-53\n",
       "2                          aabebidas-372\n",
       "3                         aabebidas-1003\n",
       "4        aacuidado personal y salud-3485\n",
       "                      ...               \n",
       "14232                     aabebidas-1190\n",
       "14233                   aaabarrotes-1018\n",
       "14234                    aamascotas-1175\n",
       "14235              aabebe e infantil-949\n",
       "14236                       aabebidas-27\n",
       "Name: image_name, Length: 14237, dtype: object"
      ]
     },
     "execution_count": 58,
     "metadata": {},
     "output_type": "execute_result"
    }
   ],
   "source": [
    "a[\"image_name\"].apply(lambda x: \"aa\"+x)"
   ]
  },
  {
   "cell_type": "code",
   "execution_count": 69,
   "metadata": {},
   "outputs": [
    {
     "data": {
      "text/plain": [
       "array([[[255, 255, 255],\n",
       "        [255, 255, 255],\n",
       "        [255, 255, 255],\n",
       "        ...,\n",
       "        [255, 255, 255],\n",
       "        [255, 255, 255],\n",
       "        [255, 255, 255]],\n",
       "\n",
       "       [[255, 255, 255],\n",
       "        [255, 255, 255],\n",
       "        [255, 255, 255],\n",
       "        ...,\n",
       "        [255, 255, 255],\n",
       "        [255, 255, 255],\n",
       "        [255, 255, 255]],\n",
       "\n",
       "       [[255, 255, 255],\n",
       "        [255, 255, 255],\n",
       "        [255, 255, 255],\n",
       "        ...,\n",
       "        [255, 255, 255],\n",
       "        [255, 255, 255],\n",
       "        [255, 255, 255]],\n",
       "\n",
       "       ...,\n",
       "\n",
       "       [[255, 255, 255],\n",
       "        [255, 255, 255],\n",
       "        [255, 255, 255],\n",
       "        ...,\n",
       "        [255, 255, 255],\n",
       "        [255, 255, 255],\n",
       "        [255, 255, 255]],\n",
       "\n",
       "       [[255, 255, 255],\n",
       "        [255, 255, 255],\n",
       "        [255, 255, 255],\n",
       "        ...,\n",
       "        [255, 255, 255],\n",
       "        [255, 255, 255],\n",
       "        [255, 255, 255]],\n",
       "\n",
       "       [[255, 255, 255],\n",
       "        [255, 255, 255],\n",
       "        [255, 255, 255],\n",
       "        ...,\n",
       "        [255, 255, 255],\n",
       "        [255, 255, 255],\n",
       "        [255, 255, 255]]], dtype=uint8)"
      ]
     },
     "execution_count": 69,
     "metadata": {},
     "output_type": "execute_result"
    }
   ],
   "source": [
    "cv2.imread(\"../dataset/imgProyecto/imgProyecto/mascotas-1940.png\")"
   ]
  },
  {
   "cell_type": "markdown",
   "metadata": {},
   "source": [
    "### data para graficos"
   ]
  },
  {
   "cell_type": "code",
   "execution_count": 10,
   "metadata": {},
   "outputs": [],
   "source": [
    "dfResnet = pd.read_csv(\"resnet_productos.csv\", encoding=\"utf-8\")\n",
    "dfAugmentation= pd.read_csv(\"augmentation_productos.csv\", encoding=\"utf-8\")"
   ]
  },
  {
   "cell_type": "code",
   "execution_count": 11,
   "metadata": {},
   "outputs": [],
   "source": [
    "dfResnet['augmentation_embeddings'] = dfAugmentation['augmentation_embeddings']"
   ]
  },
  {
   "cell_type": "code",
   "execution_count": 13,
   "metadata": {},
   "outputs": [
    {
     "data": {
      "text/plain": [
       "(17797, 10)"
      ]
     },
     "execution_count": 13,
     "metadata": {},
     "output_type": "execute_result"
    }
   ],
   "source": [
    "dfResnet.shape"
   ]
  },
  {
   "cell_type": "code",
   "execution_count": 14,
   "metadata": {},
   "outputs": [],
   "source": [
    "dfResnet.to_csv(\"productos_embeddings.csv\",encoding='utf-8', index=False)"
   ]
  }
 ],
 "metadata": {
  "interpreter": {
   "hash": "b3ba2566441a7c06988d0923437866b63cedc61552a5af99d1f4fb67d367b25f"
  },
  "kernelspec": {
   "display_name": "Python 3",
   "language": "python",
   "name": "python3"
  },
  "language_info": {
   "codemirror_mode": {
    "name": "ipython",
    "version": 3
   },
   "file_extension": ".py",
   "mimetype": "text/x-python",
   "name": "python",
   "nbconvert_exporter": "python",
   "pygments_lexer": "ipython3",
   "version": "3.8.8"
  }
 },
 "nbformat": 4,
 "nbformat_minor": 2
}
